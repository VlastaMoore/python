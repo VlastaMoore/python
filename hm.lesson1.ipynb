{
  "cells": [
    {
      "cell_type": "code",
      "execution_count": null,
      "metadata": {
        "colab": {
          "base_uri": "https://localhost:8080/"
        },
        "id": "UvG8Q0XBDeaC",
        "outputId": "7a62e0f7-307b-4a98-937d-54ad180698c7"
      },
      "outputs": [
        {
          "output_type": "stream",
          "name": "stdout",
          "text": [
            "Looking in indexes: https://pypi.org/simple, https://us-python.pkg.dev/colab-wheels/public/simple/\n",
            "Collecting wget\n",
            "  Downloading wget-3.2.zip (10 kB)\n",
            "Building wheels for collected packages: wget\n",
            "  Building wheel for wget (setup.py) ... \u001b[?25l\u001b[?25hdone\n",
            "  Created wheel for wget: filename=wget-3.2-py3-none-any.whl size=9675 sha256=b0754d1420524921d19f2f63211d2424acaa0e58b2da0f8eed09de3ccd350960\n",
            "  Stored in directory: /root/.cache/pip/wheels/a1/b6/7c/0e63e34eb06634181c63adacca38b79ff8f35c37e3c13e3c02\n",
            "Successfully built wget\n",
            "Installing collected packages: wget\n",
            "Successfully installed wget-3.2\n",
            "--2022-10-25 19:19:50--  https://raw.githubusercontent.com/da-python/python-for-data-analytics/main/Lesson1/hometask/vacancy.csv.zip\n",
            "Resolving raw.githubusercontent.com (raw.githubusercontent.com)... 185.199.108.133, 185.199.109.133, 185.199.110.133, ...\n",
            "Connecting to raw.githubusercontent.com (raw.githubusercontent.com)|185.199.108.133|:443... connected.\n",
            "HTTP request sent, awaiting response... 200 OK\n",
            "Length: 3029239 (2.9M) [application/zip]\n",
            "Saving to: ‘vacancy.csv.zip’\n",
            "\n",
            "vacancy.csv.zip     100%[===================>]   2.89M  --.-KB/s    in 0.04s   \n",
            "\n",
            "2022-10-25 19:19:51 (73.1 MB/s) - ‘vacancy.csv.zip’ saved [3029239/3029239]\n",
            "\n",
            "Archive:  vacancy.csv.zip\n",
            "  inflating: vacancy.csv             \n"
          ]
        },
        {
          "output_type": "execute_result",
          "data": {
            "text/plain": [
              "4002"
            ]
          },
          "metadata": {},
          "execution_count": 1
        }
      ],
      "source": [
        "!pip install wget\n",
        "!wget https://raw.githubusercontent.com/da-python/python-for-data-analytics/main/Lesson1/hometask/vacancy.csv.zip\n",
        "!unzip vacancy.csv.zip\n",
        "\n",
        "import csv\n",
        "import sys\n",
        "from collections import Counter, defaultdict\n",
        "import numpy as np \n",
        "csv.field_size_limit(sys.maxsize)\n",
        "dtype = np.int64\n",
        "file_path = 'vacancy.csv'\n",
        "vacs = list(csv.DictReader(open(file_path, encoding='utf-8')))\n",
        "\n",
        "len(vacs)"
      ]
    },
    {
      "cell_type": "code",
      "execution_count": null,
      "metadata": {
        "colab": {
          "base_uri": "https://localhost:8080/"
        },
        "id": "-pR3v0twGwLt",
        "outputId": "81b5d790-2b8c-4208-baf9-c14ee013f33e"
      },
      "outputs": [
        {
          "output_type": "execute_result",
          "data": {
            "text/plain": [
              "odict_keys(['id', 'created_at', 'updated_at', 'vacid', 'vactitle', 'vacdescription', 'vacdate', 'vacstatus', 'vaclink'])"
            ]
          },
          "metadata": {},
          "execution_count": 2
        }
      ],
      "source": [
        "vacs[0].keys()"
      ]
    },
    {
      "cell_type": "code",
      "execution_count": null,
      "metadata": {
        "colab": {
          "base_uri": "https://localhost:8080/"
        },
        "id": "XSgOLvTZonVM",
        "outputId": "35500921-0371-4a45-956e-8f39e7823c23"
      },
      "outputs": [
        {
          "output_type": "execute_result",
          "data": {
            "text/plain": [
              "[('Дизайнер', 3),\n",
              " ('Дизайнер мобильных приложений', 2),\n",
              " ('Дизайнер презентаций', 2),\n",
              " ('Дизайнер UX/UI', 2),\n",
              " ('Ведущий дизайнер', 2),\n",
              " ('Главный дизайнер мобильных приложений', 1),\n",
              " ('Старший дизайнер мобильных приложений', 1),\n",
              " ('UX/UI - дизайнер', 1),\n",
              " ('UX/UI дизайнер (SberDevices)', 1),\n",
              " ('Графический дизайнер', 1),\n",
              " ('UX /UI дизайнер', 1),\n",
              " ('Продуктовый дизайнер', 1),\n",
              " ('UI/UX-Дизайнер (КК 360)', 1),\n",
              " ('UX /UI дизайнер SberUser', 1),\n",
              " ('UX-дизайнер навыков для виртуального помощника', 1),\n",
              " ('Дизайнер (договор ГПХ)', 1),\n",
              " ('Дизайнер UX/UI (ЦКМ)', 1),\n",
              " ('UX/UI-дизайнер', 1),\n",
              " ('UX/UI Дизайнер', 1),\n",
              " ('UI/UX дизайнер в Департамент пользовательских решений', 1),\n",
              " ('UX|UI Дизайнер ППРБ КЮЛ', 1),\n",
              " ('UX/UI дизайнер', 1),\n",
              " ('Дизайнер разработки визуальных коммуникаций в команду «Боты в голосе и тексте»',\n",
              "  1)]"
            ]
          },
          "metadata": {},
          "execution_count": 3
        }
      ],
      "source": [
        "# Сколько вакансий, которые вам нравятся?\n",
        "c = Counter([x.get('vactitle') for x in vacs if x.get('vactitle').lower().find('дизайнер') > -1])\n",
        "c.most_common(100)"
      ]
    },
    {
      "cell_type": "code",
      "execution_count": null,
      "metadata": {
        "colab": {
          "base_uri": "https://localhost:8080/"
        },
        "id": "JPFCCX49sIXH",
        "outputId": "1471a2e7-a57f-429f-c8b6-7c6055a035b7"
      },
      "outputs": [
        {
          "output_type": "execute_result",
          "data": {
            "text/plain": [
              "[('Дизайнер мобильных приложений', '2021-03-15'),\n",
              " ('Главный дизайнер мобильных приложений', '2021-03-15'),\n",
              " ('Старший дизайнер мобильных приложений', '2021-03-15'),\n",
              " ('Дизайнер мобильных приложений', '2021-03-15'),\n",
              " ('Дизайнер', '2021-03-11'),\n",
              " ('UX/UI - дизайнер', '2021-03-11'),\n",
              " ('UX/UI дизайнер (SberDevices)', '2021-03-10'),\n",
              " ('Графический дизайнер', '2021-03-09'),\n",
              " ('Дизайнер', '2021-03-05'),\n",
              " ('Дизайнер', '2021-03-03'),\n",
              " ('Дизайнер презентаций', '2021-03-01'),\n",
              " ('UX /UI дизайнер', '2021-02-26'),\n",
              " ('Продуктовый дизайнер', '2021-02-26'),\n",
              " ('UI/UX-Дизайнер (КК 360)', '2021-02-25'),\n",
              " ('UX /UI дизайнер SberUser', '2021-02-24'),\n",
              " ('UX-дизайнер навыков для виртуального помощника', '2021-02-19'),\n",
              " ('Дизайнер (договор ГПХ)', '2021-02-17'),\n",
              " ('Дизайнер UX/UI (ЦКМ)', '2021-02-15'),\n",
              " ('Дизайнер UX/UI', '2021-02-12'),\n",
              " ('Ведущий дизайнер', '2021-02-11'),\n",
              " ('UX/UI-дизайнер', '2021-02-09'),\n",
              " ('Дизайнер UX/UI', '2021-02-03'),\n",
              " ('UX/UI Дизайнер', '2021-02-03'),\n",
              " ('UI/UX дизайнер в Департамент пользовательских решений', '2021-01-25'),\n",
              " ('UX|UI Дизайнер ППРБ КЮЛ', '2021-01-19'),\n",
              " ('Дизайнер презентаций', '2021-01-19'),\n",
              " ('UX/UI дизайнер', '2020-12-22'),\n",
              " ('Ведущий дизайнер', '2020-11-25'),\n",
              " ('Дизайнер разработки визуальных коммуникаций в команду «Боты в голосе и тексте»',\n",
              "  '2021-03-16')]"
            ]
          },
          "metadata": {},
          "execution_count": 4
        }
      ],
      "source": [
        "# За какие периоды эти вакансии?\n",
        "[(x.get('vactitle'), x.get('vacdate')) for x in vacs if x.get('vactitle').lower().find('дизайнер') > -1]"
      ]
    },
    {
      "cell_type": "code",
      "execution_count": null,
      "metadata": {
        "colab": {
          "base_uri": "https://localhost:8080/"
        },
        "id": "ZgwryMoGs4qW",
        "outputId": "9e61de9a-a92e-42c5-ac83-33a80637c6f1"
      },
      "outputs": [
        {
          "output_type": "execute_result",
          "data": {
            "text/plain": [
              "[('Старший клиентский менеджер', 3)]"
            ]
          },
          "metadata": {},
          "execution_count": 5
        }
      ],
      "source": [
        "# Сколько вакансий с такими позициями, на которых вы работаете?\n",
        "c2 = Counter([x.get('vactitle') for x in vacs if x.get('vactitle').lower() == 'старший клиентский менеджер'])\n",
        "c2.most_common()"
      ]
    },
    {
      "cell_type": "code",
      "execution_count": null,
      "metadata": {
        "colab": {
          "base_uri": "https://localhost:8080/"
        },
        "id": "nHBmjRyf2LuZ",
        "outputId": "2af334d3-1752-4e89-88e6-293b77fa8d7f"
      },
      "outputs": [
        {
          "output_type": "execute_result",
          "data": {
            "text/plain": [
              "[('Аналитик данных', 5),\n",
              " ('Data Analyst', 3),\n",
              " ('Data analyst. Аналитик данных в трайб «Массовая персонализация».', 2),\n",
              " ('Data analyst', 2),\n",
              " ('Ведущий аналитик данных', 2),\n",
              " ('Data Analyst в команду «Отчетность и аналитика»', 1),\n",
              " ('Data analyst (Python)', 1),\n",
              " ('Data Analyst Дивизион `Массовая персонализация`', 1),\n",
              " ('Руководитель направления по аналитике данных в команду CLTV. Senior data analyst',\n",
              "  1),\n",
              " ('Data analyst (внедрение моделей)', 1),\n",
              " ('Стажер Data engineer/Data analyst', 1),\n",
              " ('Data analyst (в Лабораторию клиентского опыта)', 1),\n",
              " ('Data analyst (Казначейство)', 1),\n",
              " ('Data analyst. Стажера - Аналитик (кластер Персональные предложения)', 1),\n",
              " ('Lead Data Analyst', 1),\n",
              " ('Data Analyst Дивизион \"Особенные решения\"', 1),\n",
              " ('Аналитик / data analyst. Дивизион `Лояльность`', 1),\n",
              " ('Senior data analyst. Дивизион `Лояльность`', 1),\n",
              " ('Senior Data Analyst', 1),\n",
              " ('Data Analyst (\"Корпоративные клиенты 360\")', 1),\n",
              " ('Senior Data analyst (блок УБ, команда инвестиционных продуктов)', 1),\n",
              " ('Аналитик данных (проект СберID)', 1),\n",
              " ('Аналитик данных/администратор проектов', 1),\n",
              " ('Системный аналитик/аналитик данных', 1),\n",
              " ('Ведущий аналитик данных . Руководитель направления Дивизион `Массовая персонализация`',\n",
              "  1),\n",
              " ('Аналитик данных в команду «Голосовые сценарии. Платежи и переводы»', 1),\n",
              " ('Аналитик данных в команду «Инфраструктура данных»', 1),\n",
              " ('Младший аналитик данных/Data Scientist', 1),\n",
              " ('Аналитик данных/Администратор проектов', 1),\n",
              " ('Аналитик данных по затратам и ресурсам', 1),\n",
              " ('Аналитик данных AI', 1),\n",
              " ('Аналитик данных (аналитические витрины)', 1),\n",
              " ('Ведущий аналитик данных (Корпоративный блок)', 1),\n",
              " ('Аналитик данных (Корпоративно-Инвестиционный блок)', 1)]"
            ]
          },
          "metadata": {},
          "execution_count": 6
        }
      ],
      "source": [
        "# Сколько вакансий для аналитика данных?\n",
        "c1 = Counter([x.get('vactitle') for x in vacs if x.get('vactitle').lower().find('data analyst') > -1] + [x.get('vactitle') for x in vacs if x.get('vactitle').lower().find('аналитик данных') > -1])\n",
        "c1.most_common()"
      ]
    },
    {
      "cell_type": "code",
      "execution_count": null,
      "metadata": {
        "colab": {
          "base_uri": "https://localhost:8080/"
        },
        "id": "T7Oxp6_888Ha",
        "outputId": "abfae6ba-5b93-48c6-d214-b7ac0a71efe4"
      },
      "outputs": [
        {
          "output_type": "execute_result",
          "data": {
            "text/plain": [
              "[('Аналитик данных', 5),\n",
              " ('Data Analyst', 3),\n",
              " ('Data analyst. Аналитик данных в трайб «Массовая персонализация».', 2),\n",
              " ('Data analyst', 2),\n",
              " ('Ведущий аналитик данных', 2),\n",
              " ('Data Analyst в команду «Отчетность и аналитика»', 1),\n",
              " ('Data analyst (Python)', 1),\n",
              " ('Data Analyst Дивизион `Массовая персонализация`', 1),\n",
              " ('Руководитель направления по аналитике данных в команду CLTV. Senior data analyst',\n",
              "  1),\n",
              " ('Data analyst (внедрение моделей)', 1),\n",
              " ('Стажер Data engineer/Data analyst', 1),\n",
              " ('Data analyst (в Лабораторию клиентского опыта)', 1),\n",
              " ('Data analyst (Казначейство)', 1),\n",
              " ('Data analyst. Стажера - Аналитик (кластер Персональные предложения)', 1),\n",
              " ('Lead Data Analyst', 1),\n",
              " ('Data Analyst Дивизион \"Особенные решения\"', 1),\n",
              " ('Аналитик / data analyst. Дивизион `Лояльность`', 1),\n",
              " ('Senior data analyst. Дивизион `Лояльность`', 1),\n",
              " ('Senior Data Analyst', 1),\n",
              " ('Data Analyst (\"Корпоративные клиенты 360\")', 1),\n",
              " ('Senior Data analyst (блок УБ, команда инвестиционных продуктов)', 1),\n",
              " ('Аналитик данных (проект СберID)', 1),\n",
              " ('Аналитик данных/администратор проектов', 1),\n",
              " ('Системный аналитик/аналитик данных', 1),\n",
              " ('Ведущий аналитик данных . Руководитель направления Дивизион `Массовая персонализация`',\n",
              "  1),\n",
              " ('Аналитик данных в команду «Голосовые сценарии. Платежи и переводы»', 1),\n",
              " ('Аналитик данных в команду «Инфраструктура данных»', 1),\n",
              " ('Младший аналитик данных/Data Scientist', 1),\n",
              " ('Аналитик данных/Администратор проектов', 1),\n",
              " ('Аналитик данных по затратам и ресурсам', 1),\n",
              " ('Аналитик данных AI', 1),\n",
              " ('Аналитик данных (аналитические витрины)', 1),\n",
              " ('Ведущий аналитик данных (Корпоративный блок)', 1),\n",
              " ('Аналитик данных (Корпоративно-Инвестиционный блок)', 1)]"
            ]
          },
          "metadata": {},
          "execution_count": 7
        }
      ],
      "source": [
        "# Сколько вакансий для аналитика данных?\n",
        "c1 = Counter([x.get('vactitle') for x in vacs if x.get('vactitle').lower().find('data analyst') > -1] + [x.get('vactitle') for x in vacs if x.get('vactitle').lower().find('аналитик данных') > -1])\n",
        "c1.most_common()"
      ]
    },
    {
      "cell_type": "code",
      "execution_count": null,
      "metadata": {
        "id": "tryfHWcI45Dh",
        "colab": {
          "base_uri": "https://localhost:8080/"
        },
        "outputId": "0333d7f8-9be7-40e6-a13a-70c26875e539"
      },
      "outputs": [
        {
          "output_type": "execute_result",
          "data": {
            "text/plain": [
              "24"
            ]
          },
          "metadata": {},
          "execution_count": 8
        }
      ],
      "source": [
        " # Сколько вакансий для аналитика данных с использованием Python?\n",
        "\n",
        "c3 = Counter([x.get('vactitle') for x in vacs if x.get('vactitle').lower().find('data analyst') > -1 and 'python' in x.get('vacdescription').lower()] + [x.get('vactitle') for x in vacs if x.get('vactitle').lower().find('аналитик данных') > -1 and 'python' in x.get('vacdescription').lower()]) \n",
        "sum(c3.values())\n",
        "                                                            "
      ]
    }
  ],
  "metadata": {
    "colab": {
      "collapsed_sections": [],
      "provenance": []
    },
    "kernelspec": {
      "display_name": "Python 3",
      "name": "python3"
    },
    "language_info": {
      "name": "python"
    }
  },
  "nbformat": 4,
  "nbformat_minor": 0
}